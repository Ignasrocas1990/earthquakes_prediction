{
 "cells": [
  {
   "cell_type": "code",
   "execution_count": 3,
   "id": "cd215384",
   "metadata": {},
   "outputs": [],
   "source": [
    "import pandas as pd"
   ]
  },
  {
   "cell_type": "code",
   "execution_count": 4,
   "id": "4711724b",
   "metadata": {},
   "outputs": [],
   "source": [
    "#Clean data\n",
    "e_data = pd.read_csv(\"https://www.dropbox.com/s/ey2y94hyfclgl98/clean_data.csv?dl=1\")"
   ]
  },
  {
   "cell_type": "code",
   "execution_count": 6,
   "id": "7860d038",
   "metadata": {},
   "outputs": [
    {
     "name": "stdout",
     "output_type": "stream",
     "text": [
      "       Unnamed: 0  Latitude  Longitude   Depth  Magnitude  Month   Day  \\\n",
      "0               0   19.2460   145.6160  131.60        6.0      1   2.0   \n",
      "1              39   53.0080  -162.0080   17.80        6.4      2   6.0   \n",
      "2              44   53.1910  -161.8590   22.50        6.3      2   6.0   \n",
      "3              57   21.5270   143.0810  340.00        5.6      2  17.0   \n",
      "4              86   53.2920  -162.3310   20.00        5.7      3  13.0   \n",
      "...           ...       ...        ...     ...        ...    ...   ...   \n",
      "18720       23325    6.1142   -82.5906   10.00        5.6     11  12.0   \n",
      "18721       23359  -35.2021    54.0219   10.00        5.5     12   1.0   \n",
      "18722       23365   11.0316   -60.9005   31.75        5.9     12   6.0   \n",
      "18723       23397  -10.1785   160.9149   10.00        6.0     12  20.0   \n",
      "18724       23398  -10.1549   160.7816   10.38        5.5     12  20.0   \n",
      "\n",
      "         Year    Country Name  Density  Population  \n",
      "0      1965.0   United States       21   194303000  \n",
      "1      1965.0   United States       21   194303000  \n",
      "2      1965.0   United States       21   194303000  \n",
      "3      1965.0   United States       21   194303000  \n",
      "4      1965.0   United States       21   194303000  \n",
      "...       ...             ...      ...         ...  \n",
      "18720  2016.0          Panama       54     4037078  \n",
      "18721  2016.0      Madagascar       42    24894380  \n",
      "18722  2016.0  United Kingdom      271    65595565  \n",
      "18723  2016.0        Thailand      135    68971331  \n",
      "18724  2016.0        Thailand      135    68971331  \n",
      "\n",
      "[18725 rows x 11 columns]\n"
     ]
    }
   ],
   "source": [
    "print (e_data)"
   ]
  },
  {
   "cell_type": "code",
   "execution_count": null,
   "id": "80b5afd2",
   "metadata": {},
   "outputs": [],
   "source": []
  }
 ],
 "metadata": {
  "kernelspec": {
   "display_name": "Python 3",
   "language": "python",
   "name": "python3"
  },
  "language_info": {
   "codemirror_mode": {
    "name": "ipython",
    "version": 3
   },
   "file_extension": ".py",
   "mimetype": "text/x-python",
   "name": "python",
   "nbconvert_exporter": "python",
   "pygments_lexer": "ipython3",
   "version": "3.8.8"
  }
 },
 "nbformat": 4,
 "nbformat_minor": 5
}
