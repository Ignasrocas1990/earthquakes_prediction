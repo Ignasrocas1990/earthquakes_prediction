{
 "cells": [
  {
   "cell_type": "code",
   "execution_count": 6,
   "metadata": {},
   "outputs": [],
   "source": [
    "import pandas as pd\n",
    "import reverse_geocoder as rg\n",
    "from geopy.geocoders import Nominatim \n",
    "from googletrans import Translator, constants\n",
    "translator = Translator()\n",
    "geolocator = Nominatim(user_agent=\"geoapiExercises\")"
   ]
  },
  {
   "cell_type": "markdown",
   "metadata": {},
   "source": [
    "# Data cleaning & merging"
   ]
  },
  {
   "cell_type": "code",
   "execution_count": null,
   "metadata": {},
   "outputs": [],
   "source": [
    "def input_org_data():\n",
    "    e_data = pd.read_csv(\"https://www.dropbox.com/s/u2xupuhf07y85zh/earthQuake.csv?dl=1\")\n",
    "    density_data = pd.read_csv(\"https://www.dropbox.com/s/p6ejr4mzx8pjq9m/population_density_long.csv?dl=1\")\n",
    "    population_data=pd.read_csv(\"https://www.dropbox.com/s/bp5hb61zrui2qo6/population_total_long.csv?dl=1\")"
   ]
  },
  {
   "cell_type": "code",
   "execution_count": null,
   "metadata": {},
   "outputs": [],
   "source": [
    "e_data_with_country = pd.read_csv('out_e_data.csv', delimiter=',', encoding=\"utf-8\")\n",
    "density_data = pd.read_csv('population_density_long.csv', delimiter=',', encoding=\"utf-8\")\n",
    "population_data=pd.read_csv('population_total_long.csv', delimiter=',', encoding=\"utf-8\")"
   ]
  },
  {
   "cell_type": "code",
   "execution_count": null,
   "metadata": {},
   "outputs": [],
   "source": [
    "full_combined_dataset = pd.read_csv('pop_edata.csv', delimiter=',', encoding=\"utf-8\")\n",
    "print(full_combined_dataset)"
   ]
  },
  {
   "cell_type": "code",
   "execution_count": null,
   "metadata": {
    "scrolled": true
   },
   "outputs": [],
   "source": [
    "def cleanEarthquakeData(): \n",
    "    e_data[['Month','Day','Year']]=e_data['Date'].str.split('/',-1,expand=True)\n",
    "    e_data = e_data.drop(['Date','Time','ID','Source','Location Source','Magnitude Source','Status','Type','Magnitude Type'],axis=1)\n",
    "    print(e_data)"
   ]
  },
  {
   "cell_type": "code",
   "execution_count": null,
   "metadata": {},
   "outputs": [],
   "source": [
    "def clean_combine_pop_density():\n",
    "    population_data = population_data.drop(population_data.index[population_data['Year'].isin(['1960', '1961', '1962','1963','1964'])])\n",
    "    population_data.rename(columns={'Count': 'Population'}, inplace=True)\n",
    "\n",
    "    density_data = density_data.drop(density_data.index[density_data['Year'].isin(['1960', '1961', '1962','1963','1964'])])\n",
    "    density_data.rename(columns={'Count': 'Density'}, inplace=True)\n",
    "\n",
    "    joined = density_data.merge(population_data,\n",
    "              how='left',\n",
    "              on =['Country Name', 'Year'],\n",
    "             )\n",
    "    joined['Population'] = joined['Population'].fillna(0).astype(int)\n",
    "    print(joined)\n",
    "    pop_dense_data = joined\n",
    "    #  suffixes=['', '_r']).drop(columns = ['date_r', 'year-month']\n"
   ]
  },
  {
   "cell_type": "code",
   "execution_count": null,
   "metadata": {},
   "outputs": [],
   "source": [
    "def find_country(long,lat):\n",
    "    tuple_input = (long,lat)\n",
    "    found = rg.search(tuple_input)\n",
    "    countryName = found[0]['name']\n",
    "#     countryName = translator.translate(countryName)\n",
    "    print('**', countryName)\n",
    "    \n",
    "    return countryName\n",
    "\n",
    "def city_to_country(city):\n",
    "    try:\n",
    "        loc = geolocator.geocode(city, language='en')\n",
    "        loc_list = loc.address.split(',')\n",
    "    except:\n",
    "        print(city + ': Not found')\n",
    "        return None\n",
    "    return loc_list[-1]"
   ]
  },
  {
   "cell_type": "code",
   "execution_count": null,
   "metadata": {},
   "outputs": [],
   "source": [
    "def country_col_edata():\n",
    "    count = 0\n",
    "    for i, r, in e_data.iterrows():\n",
    "        country = city_to_country(find_country(r['Latitude'], r['Longitude']))\n",
    "        e_data['Country Name'][count] = country\n",
    "        print(country)\n",
    "        count +=1\n",
    "    \n",
    "    e_data_with_country = e_data_with_country.dropna()\n",
    "    print(e_data_with_country)\n",
    "    return e_data_with_country"
   ]
  },
  {
   "cell_type": "code",
   "execution_count": null,
   "metadata": {},
   "outputs": [],
   "source": [
    "def strip_white_space():\n",
    "    fixed_e_data = e_data_with_country\n",
    "    fixed_e_data['Country Name'] = fixed_e_data['Country Name'].str.strip()\n",
    "    g = fixed_e_data['Country Name'][2]\n",
    "    print(type(g))\n",
    "    print(g)\n",
    "\n",
    "def merge_popDense_e_data():\n",
    "    joined = e_data_with_country.merge(fixed_pop_data,\n",
    "           how='inner',\n",
    "          on =['Country Name', 'Year'],\n",
    "         )\n",
    "    joined['Population'] = joined['Population'].fillna(0).astype(int)\n",
    "    joined['Density'] = joined['Density'].fillna(0).astype(int)\n",
    "    print(joined)\n"
   ]
  },
  {
   "cell_type": "code",
   "execution_count": 7,
   "metadata": {},
   "outputs": [
    {
     "data": {
      "text/html": [
       "<div>\n",
       "<style scoped>\n",
       "    .dataframe tbody tr th:only-of-type {\n",
       "        vertical-align: middle;\n",
       "    }\n",
       "\n",
       "    .dataframe tbody tr th {\n",
       "        vertical-align: top;\n",
       "    }\n",
       "\n",
       "    .dataframe thead th {\n",
       "        text-align: right;\n",
       "    }\n",
       "</style>\n",
       "<table border=\"1\" class=\"dataframe\">\n",
       "  <thead>\n",
       "    <tr style=\"text-align: right;\">\n",
       "      <th></th>\n",
       "      <th>Unnamed: 0</th>\n",
       "      <th>Latitude</th>\n",
       "      <th>Longitude</th>\n",
       "      <th>Depth</th>\n",
       "      <th>Magnitude</th>\n",
       "      <th>Month</th>\n",
       "      <th>Day</th>\n",
       "      <th>Year</th>\n",
       "      <th>Country Name</th>\n",
       "      <th>Density</th>\n",
       "      <th>Population</th>\n",
       "    </tr>\n",
       "  </thead>\n",
       "  <tbody>\n",
       "    <tr>\n",
       "      <th>0</th>\n",
       "      <td>0</td>\n",
       "      <td>19.246</td>\n",
       "      <td>145.616</td>\n",
       "      <td>131.6</td>\n",
       "      <td>6.0</td>\n",
       "      <td>1</td>\n",
       "      <td>2.0</td>\n",
       "      <td>1965.0</td>\n",
       "      <td>United States</td>\n",
       "      <td>21</td>\n",
       "      <td>194303000</td>\n",
       "    </tr>\n",
       "    <tr>\n",
       "      <th>1</th>\n",
       "      <td>39</td>\n",
       "      <td>53.008</td>\n",
       "      <td>-162.008</td>\n",
       "      <td>17.8</td>\n",
       "      <td>6.4</td>\n",
       "      <td>2</td>\n",
       "      <td>6.0</td>\n",
       "      <td>1965.0</td>\n",
       "      <td>United States</td>\n",
       "      <td>21</td>\n",
       "      <td>194303000</td>\n",
       "    </tr>\n",
       "    <tr>\n",
       "      <th>2</th>\n",
       "      <td>44</td>\n",
       "      <td>53.191</td>\n",
       "      <td>-161.859</td>\n",
       "      <td>22.5</td>\n",
       "      <td>6.3</td>\n",
       "      <td>2</td>\n",
       "      <td>6.0</td>\n",
       "      <td>1965.0</td>\n",
       "      <td>United States</td>\n",
       "      <td>21</td>\n",
       "      <td>194303000</td>\n",
       "    </tr>\n",
       "    <tr>\n",
       "      <th>3</th>\n",
       "      <td>57</td>\n",
       "      <td>21.527</td>\n",
       "      <td>143.081</td>\n",
       "      <td>340.0</td>\n",
       "      <td>5.6</td>\n",
       "      <td>2</td>\n",
       "      <td>17.0</td>\n",
       "      <td>1965.0</td>\n",
       "      <td>United States</td>\n",
       "      <td>21</td>\n",
       "      <td>194303000</td>\n",
       "    </tr>\n",
       "    <tr>\n",
       "      <th>4</th>\n",
       "      <td>86</td>\n",
       "      <td>53.292</td>\n",
       "      <td>-162.331</td>\n",
       "      <td>20.0</td>\n",
       "      <td>5.7</td>\n",
       "      <td>3</td>\n",
       "      <td>13.0</td>\n",
       "      <td>1965.0</td>\n",
       "      <td>United States</td>\n",
       "      <td>21</td>\n",
       "      <td>194303000</td>\n",
       "    </tr>\n",
       "  </tbody>\n",
       "</table>\n",
       "</div>"
      ],
      "text/plain": [
       "   Unnamed: 0  Latitude  Longitude  Depth  Magnitude  Month   Day    Year  \\\n",
       "0           0    19.246    145.616  131.6        6.0      1   2.0  1965.0   \n",
       "1          39    53.008   -162.008   17.8        6.4      2   6.0  1965.0   \n",
       "2          44    53.191   -161.859   22.5        6.3      2   6.0  1965.0   \n",
       "3          57    21.527    143.081  340.0        5.6      2  17.0  1965.0   \n",
       "4          86    53.292   -162.331   20.0        5.7      3  13.0  1965.0   \n",
       "\n",
       "    Country Name  Density  Population  \n",
       "0  United States       21   194303000  \n",
       "1  United States       21   194303000  \n",
       "2  United States       21   194303000  \n",
       "3  United States       21   194303000  \n",
       "4  United States       21   194303000  "
      ]
     },
     "execution_count": 7,
     "metadata": {},
     "output_type": "execute_result"
    }
   ],
   "source": [
    "#Clean data\n",
    "e_data = pd.read_csv(\"https://www.dropbox.com/s/ey2y94hyfclgl98/clean_data.csv?dl=1\")"
   ]
  },
  {
   "cell_type": "code",
   "execution_count": 1,
   "metadata": {},
   "outputs": [
    {
     "ename": "SyntaxError",
     "evalue": "unexpected EOF while parsing (<ipython-input-1-9942d99e0e9e>, line 2)",
     "output_type": "error",
     "traceback": [
      "\u001b[1;36m  File \u001b[1;32m\"<ipython-input-1-9942d99e0e9e>\"\u001b[1;36m, line \u001b[1;32m2\u001b[0m\n\u001b[1;33m    y = np.array([0, 0, 0, 0, 1, 1, 1, 1, 1,\u001b[0m\n\u001b[1;37m                                             ^\u001b[0m\n\u001b[1;31mSyntaxError\u001b[0m\u001b[1;31m:\u001b[0m unexpected EOF while parsing\n"
     ]
    }
   ],
   "source": [
    "x = np.arange(10).reshape(-1, 1)\n",
    "y = np.array([0, 0, 0, 0, 1, 1, 1, 1, 1, "
   ]
  },
  {
   "cell_type": "code",
   "execution_count": null,
   "metadata": {},
   "outputs": [],
   "source": []
  }
 ],
 "metadata": {
  "kernelspec": {
   "display_name": "Python 3",
   "language": "python",
   "name": "python3"
  },
  "language_info": {
   "codemirror_mode": {
    "name": "ipython",
    "version": 3
   },
   "file_extension": ".py",
   "mimetype": "text/x-python",
   "name": "python",
   "nbconvert_exporter": "python",
   "pygments_lexer": "ipython3",
   "version": "3.8.8"
  }
 },
 "nbformat": 4,
 "nbformat_minor": 4
}
