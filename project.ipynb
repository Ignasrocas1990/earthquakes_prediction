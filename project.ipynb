{
 "cells": [
  {
   "cell_type": "code",
   "execution_count": 2,
   "metadata": {},
   "outputs": [],
   "source": [
    "import pandas as pd\n",
    "import reverse_geocoder as rg\n",
    "from geopy.geocoders import Nominatim \n",
    "from googletrans import Translator, constants\n",
    "translator = Translator()\n",
    "geolocator = Nominatim(user_agent=\"geoapiExercises\")"
   ]
  },
  {
   "cell_type": "markdown",
   "metadata": {},
   "source": [
    "df = pd.read_csv('bibliography.csv', delimiter=',', encoding=\"utf-8\")\n"
   ]
  },
  {
   "cell_type": "code",
   "execution_count": 6,
   "metadata": {},
   "outputs": [],
   "source": [
    "# e_data = pd.read_csv(\"https://www.dropbox.com/s/u2xupuhf07y85zh/earthQuake.csv?dl=1\")\n",
    "# density_data = pd.read_csv(\"https://www.dropbox.com/s/p6ejr4mzx8pjq9m/population_density_long.csv?dl=1\")\n",
    "# population_data=pd.read_csv(\"https://www.dropbox.com/s/bp5hb61zrui2qo6/population_total_long.csv?dl=1\")"
   ]
  },
  {
   "cell_type": "code",
   "execution_count": 11,
   "metadata": {},
   "outputs": [],
   "source": [
    "e_data_with_country = pd.read_csv('out_e_data.csv', delimiter=',', encoding=\"utf-8\")\n",
    "density_data = pd.read_csv('population_density_long.csv', delimiter=',', encoding=\"utf-8\")\n",
    "population_data=pd.read_csv('population_total_long.csv', delimiter=',', encoding=\"utf-8\")"
   ]
  },
  {
   "cell_type": "code",
   "execution_count": null,
   "metadata": {},
   "outputs": [],
   "source": []
  },
  {
   "cell_type": "markdown",
   "metadata": {},
   "source": [
    "separate the date into columns"
   ]
  },
  {
   "cell_type": "code",
   "execution_count": 10,
   "metadata": {},
   "outputs": [
    {
     "ename": "NameError",
     "evalue": "name 'e_data' is not defined",
     "output_type": "error",
     "traceback": [
      "\u001b[1;31m---------------------------------------------------------------------------\u001b[0m",
      "\u001b[1;31mNameError\u001b[0m                                 Traceback (most recent call last)",
      "\u001b[1;32m<ipython-input-10-a2c46a6ed16b>\u001b[0m in \u001b[0;36m<module>\u001b[1;34m\u001b[0m\n\u001b[1;32m----> 1\u001b[1;33m \u001b[0me_data\u001b[0m\u001b[1;33m[\u001b[0m\u001b[1;33m[\u001b[0m\u001b[1;34m'Month'\u001b[0m\u001b[1;33m,\u001b[0m\u001b[1;34m'Day'\u001b[0m\u001b[1;33m,\u001b[0m\u001b[1;34m'Year'\u001b[0m\u001b[1;33m]\u001b[0m\u001b[1;33m]\u001b[0m\u001b[1;33m=\u001b[0m\u001b[0me_data\u001b[0m\u001b[1;33m[\u001b[0m\u001b[1;34m'Date'\u001b[0m\u001b[1;33m]\u001b[0m\u001b[1;33m.\u001b[0m\u001b[0mstr\u001b[0m\u001b[1;33m.\u001b[0m\u001b[0msplit\u001b[0m\u001b[1;33m(\u001b[0m\u001b[1;34m'/'\u001b[0m\u001b[1;33m,\u001b[0m\u001b[1;33m-\u001b[0m\u001b[1;36m1\u001b[0m\u001b[1;33m,\u001b[0m\u001b[0mexpand\u001b[0m\u001b[1;33m=\u001b[0m\u001b[1;32mTrue\u001b[0m\u001b[1;33m)\u001b[0m\u001b[1;33m\u001b[0m\u001b[1;33m\u001b[0m\u001b[0m\n\u001b[0m",
      "\u001b[1;31mNameError\u001b[0m: name 'e_data' is not defined"
     ]
    }
   ],
   "source": [
    "# e_data[['Month','Day','Year']]=e_data['Date'].str.split('/',-1,expand=True)"
   ]
  },
  {
   "cell_type": "markdown",
   "metadata": {},
   "source": [
    "get rid of all unwanted columns (is Depth usefull?)"
   ]
  },
  {
   "cell_type": "code",
   "execution_count": null,
   "metadata": {},
   "outputs": [],
   "source": [
    "# e_data = e_data.drop(['Date','Time','ID','Source','Location Source','Magnitude Source','Status','Type','Magnitude Type'],axis=1)"
   ]
  },
  {
   "cell_type": "code",
   "execution_count": null,
   "metadata": {},
   "outputs": [],
   "source": [
    "# print(e_data)"
   ]
  },
  {
   "cell_type": "code",
   "execution_count": 12,
   "metadata": {},
   "outputs": [],
   "source": [
    "population_data = population_data.drop(population_data.index[population_data['Year'].isin(['1960', '1961', '1962','1963','1964'])])\n",
    "population_data.rename(columns={'Count': 'Population'}, inplace=True)"
   ]
  },
  {
   "cell_type": "code",
   "execution_count": 13,
   "metadata": {},
   "outputs": [],
   "source": [
    "density_data = density_data.drop(density_data.index[density_data['Year'].isin(['1960', '1961', '1962','1963','1964'])])\n",
    "density_data.rename(columns={'Count': 'Density'}, inplace=True)"
   ]
  },
  {
   "cell_type": "code",
   "execution_count": null,
   "metadata": {},
   "outputs": [],
   "source": [
    "def find_country(long,lat):\n",
    "    tuple_input = (long,lat)\n",
    "    found = rg.search(tuple_input)\n",
    "    countryName = found[0]['name']\n",
    "#     countryName = translator.translate(countryName)\n",
    "    print('**', countryName)\n",
    "    \n",
    "    return countryName\n",
    "\n",
    "def city_to_country(city):\n",
    "    try:\n",
    "        loc = geolocator.geocode(city, language='en')\n",
    "        loc_list = loc.address.split(',')\n",
    "    except:\n",
    "        print(city + ': Not found')\n",
    "        return None\n",
    "    return loc_list[-1]\n",
    "    "
   ]
  },
  {
   "cell_type": "code",
   "execution_count": 14,
   "metadata": {},
   "outputs": [
    {
     "name": "stdout",
     "output_type": "stream",
     "text": [
      "       Country Name  Year  Density  Population\n",
      "0             Aruba  1965      318       57360\n",
      "1       Afghanistan  1965       15     9956320\n",
      "2            Angola  1965        4     5770570\n",
      "3           Albania  1965       68     1864791\n",
      "4           Andorra  1965       39       18549\n",
      "...             ...   ...      ...         ...\n",
      "11230        Kosovo  2017      168     1830700\n",
      "11231   Yemen, Rep.  2017       52    27834821\n",
      "11232  South Africa  2017       46    57000451\n",
      "11233        Zambia  2017       22    16853688\n",
      "11234      Zimbabwe  2017       36    14236745\n",
      "\n",
      "[11235 rows x 4 columns]\n"
     ]
    }
   ],
   "source": [
    "joined = density_data.merge(population_data,\n",
    "          how='left',\n",
    "          on =['Country Name', 'Year'],\n",
    "         )\n",
    "joined['Population'] = joined['Population'].fillna(0).astype(int)\n",
    "print(joined)\n",
    "pop_dense_data = joined\n",
    "#  suffixes=['', '_r']).drop(columns = ['date_r', 'year-month']"
   ]
  },
  {
   "cell_type": "code",
   "execution_count": null,
   "metadata": {},
   "outputs": [],
   "source": [
    "# count = 0\n",
    "# for i, r, in e_data.iterrows():\n",
    "#     country = city_to_country(find_country(r['Latitude'], r['Longitude']))\n",
    "#     e_data['Country Name'][count] = country\n",
    "#     print(country)\n",
    "#     count +=1\n",
    "    "
   ]
  },
  {
   "cell_type": "code",
   "execution_count": 15,
   "metadata": {},
   "outputs": [
    {
     "name": "stdout",
     "output_type": "stream",
     "text": [
      "       Country Name  Year  Density  Population\n",
      "0             Aruba  1965      318       57360\n",
      "1       Afghanistan  1965       15     9956320\n",
      "2            Angola  1965        4     5770570\n",
      "3           Albania  1965       68     1864791\n",
      "4           Andorra  1965       39       18549\n",
      "...             ...   ...      ...         ...\n",
      "11230        Kosovo  2017      168     1830700\n",
      "11231   Yemen, Rep.  2017       52    27834821\n",
      "11232  South Africa  2017       46    57000451\n",
      "11233        Zambia  2017       22    16853688\n",
      "11234      Zimbabwe  2017       36    14236745\n",
      "\n",
      "[11235 rows x 4 columns]\n"
     ]
    }
   ],
   "source": [
    "print(pop_dense_data)"
   ]
  },
  {
   "cell_type": "code",
   "execution_count": 18,
   "metadata": {},
   "outputs": [
    {
     "name": "stdout",
     "output_type": "stream",
     "text": [
      "       Unnamed: 0  Latitude  Longitude   Depth  Magnitude Month   Day    Year  \\\n",
      "0               0   19.2460   145.6160  131.60        6.0    01   2.0  1965.0   \n",
      "2               2  -20.5790  -173.9720   20.00        6.2    01   5.0  1965.0   \n",
      "3               3  -59.0760   -23.5570   15.00        5.8    01   8.0  1965.0   \n",
      "4               4   11.9380   126.4270   15.00        5.8    01   9.0  1965.0   \n",
      "5               5  -13.4050   166.6290   35.00        6.7    01  10.0  1965.0   \n",
      "...           ...       ...        ...     ...        ...   ...   ...     ...   \n",
      "23407       23407   38.3917  -118.8941   12.30        5.6    12  28.0  2016.0   \n",
      "23408       23408   38.3777  -118.8957    8.80        5.5    12  28.0  2016.0   \n",
      "23409       23409   36.9179   140.4262   10.00        5.9    12  28.0  2016.0   \n",
      "23410       23410   -9.0283   118.6639   79.00        6.3    12  29.0  2016.0   \n",
      "23411       23411   37.3973   141.4103   11.94        5.5    12  30.0  2016.0   \n",
      "\n",
      "                                        Country Name  \n",
      "0                                      United States  \n",
      "2                                              Tonga  \n",
      "3       South Georgia and the South Sandwich Islands  \n",
      "4                                        Philippines  \n",
      "5                                             Norway  \n",
      "...                                              ...  \n",
      "23407                                  United States  \n",
      "23408                                  United States  \n",
      "23409                                          Japan  \n",
      "23410                                      Indonesia  \n",
      "23411                                          Japan  \n",
      "\n",
      "[22133 rows x 9 columns]\n",
      "\n"
     ]
    }
   ],
   "source": [
    "e_data_with_country = e_data_with_country.dropna()\n",
    "print(e_data_with_country)"
   ]
  },
  {
   "cell_type": "code",
   "execution_count": null,
   "metadata": {
    "scrolled": true
   },
   "outputs": [],
   "source": [
    "# df = ee_data.dropna()\n",
    "# print(df)"
   ]
  },
  {
   "cell_type": "code",
   "execution_count": null,
   "metadata": {},
   "outputs": [],
   "source": [
    "\n",
    "fixed_e_data = df.astype({\"Year\": int, \"Country Name\": str})\n",
    "fixed_pop_data = pop_dense_data.astype({\"Year\": int, \"Country Name\": str})\n",
    "fixed_e_data['Country Name'] = fixed_e_data['Country Name'].astype(\"|S\")\n"
   ]
  },
  {
   "cell_type": "code",
   "execution_count": null,
   "metadata": {},
   "outputs": [],
   "source": [
    "# firstRun = gg.loc[(gg['Country Name'] == 'Tonga')].count()\n",
    "# print(gg.dtypes)\n",
    "\n",
    "# gg = fixed_e_data[fixed_e_data['Country Name'].str.contains(\"Tonga\")]\n",
    "# print(firstRun)\n",
    "# print(gg)"
   ]
  },
  {
   "cell_type": "code",
   "execution_count": null,
   "metadata": {},
   "outputs": [],
   "source": [
    "firstRun = fixed_pop_data.loc[(fixed_pop_data['Country Name'] == \"United States\")].count()\n",
    "print(fixed_pop_data.dtypes)\n",
    "print(firstRun)"
   ]
  },
  {
   "cell_type": "code",
   "execution_count": null,
   "metadata": {},
   "outputs": [],
   "source": [
    "# df['column'] = df['column'].astype('|S80')"
   ]
  },
  {
   "cell_type": "code",
   "execution_count": null,
   "metadata": {},
   "outputs": [],
   "source": [
    "joined = fixed_e_data.merge(fixed_pop_data,\n",
    "           how='inner',\n",
    "          on =['Country Name', 'Year'],\n",
    "         )\n",
    "joined['Population'] = joined['Population'].fillna(0).astype(int)\n",
    "# joined['Density'] = joined['Density'].fillna(0).astype(int)\n",
    "print(joined)\n"
   ]
  },
  {
   "cell_type": "code",
   "execution_count": null,
   "metadata": {},
   "outputs": [],
   "source": [
    "# gg = pop_dense_data.join(ee_data, on =['Country Name', 'Year'], how='left', lsuffix='', rsuffix='', sort=False)"
   ]
  },
  {
   "cell_type": "code",
   "execution_count": null,
   "metadata": {},
   "outputs": [],
   "source": []
  },
  {
   "cell_type": "code",
   "execution_count": null,
   "metadata": {},
   "outputs": [],
   "source": []
  }
 ],
 "metadata": {
  "kernelspec": {
   "display_name": "Python 3",
   "language": "python",
   "name": "python3"
  },
  "language_info": {
   "codemirror_mode": {
    "name": "ipython",
    "version": 3
   },
   "file_extension": ".py",
   "mimetype": "text/x-python",
   "name": "python",
   "nbconvert_exporter": "python",
   "pygments_lexer": "ipython3",
   "version": "3.8.5"
  }
 },
 "nbformat": 4,
 "nbformat_minor": 4
}
