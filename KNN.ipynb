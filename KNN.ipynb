{
 "cells": [
  {
   "cell_type": "code",
   "execution_count": 36,
   "id": "bb3aa14d",
   "metadata": {},
   "outputs": [],
   "source": [
    "import os\n",
    "import pandas as pd\n",
    "import matplotlib.pyplot as plt\n",
    "import numpy as np\n",
    "from IPython.display import display\n",
    "import operator\n",
    "import math"
   ]
  },
  {
   "cell_type": "code",
   "execution_count": null,
   "id": "eaf2897d",
   "metadata": {},
   "outputs": [],
   "source": [
    "#Clean data\n",
    "e_data = pd.read_csv(\"https://www.dropbox.com/s/ey2y94hyfclgl98/clean_data.csv?dl=1\")"
   ]
  },
  {
   "cell_type": "code",
   "execution_count": null,
   "id": "f6731bce",
   "metadata": {},
   "outputs": [],
   "source": [
    "print (e_data)"
   ]
  },
  {
   "cell_type": "code",
   "execution_count": 83,
   "id": "069825a3",
   "metadata": {},
   "outputs": [
    {
     "name": "stdout",
     "output_type": "stream",
     "text": [
      "   Latitude  Longitude\n",
      "0    19.246    145.616\n",
      "1    53.008   -162.008\n",
      "2    53.191   -161.859\n",
      "3    21.527    143.081\n",
      "4    53.292   -162.331\n",
      "0    United States\n",
      "1    United States\n",
      "2    United States\n",
      "3    United States\n",
      "4    United States\n",
      "Name: Country Name, dtype: object\n"
     ]
    }
   ],
   "source": [
    "cols = ['Latitude', 'Longitude']\n",
    "#cols = ['Country Name','Latitude', 'Longitude']\n",
    "#rows = ['Country Name']\n",
    "\n",
    "x = e_data[cols]\n",
    "#y = e_data[rows]\n",
    "y = e_data['Country Name']\n",
    "print (x.head())\n",
    "print (y.head())"
   ]
  },
  {
   "cell_type": "code",
   "execution_count": null,
   "id": "6473a518",
   "metadata": {},
   "outputs": [],
   "source": []
  },
  {
   "cell_type": "code",
   "execution_count": 53,
   "id": "dd6f49cf",
   "metadata": {},
   "outputs": [],
   "source": [
    "def euclideanDistance(instance1, instance2):\n",
    "    distance = 0\n",
    "    for x in range(len(instance1)):\n",
    "        distance += pow((instance1[x] - instance2[x]), 2)\n",
    "    return math.sqrt(distance)"
   ]
  },
  {
   "cell_type": "code",
   "execution_count": 60,
   "id": "ea89f411",
   "metadata": {},
   "outputs": [],
   "source": [
    "def getNeighbors(trainingSet, instance, k):\n",
    "    distances = []\n",
    "    for x in range(len(trainingSet)):\n",
    "        dist = euclideanDistance(instance, trainingSet[x])\n",
    "        distances.append(dist)\n",
    "    locs = np.argsort(distances)\n",
    "    return locs[:k]"
   ]
  },
  {
   "cell_type": "code",
   "execution_count": 93,
   "id": "9997041c",
   "metadata": {
    "scrolled": false
   },
   "outputs": [
    {
     "data": {
      "text/html": [
       "<div>\n",
       "<style scoped>\n",
       "    .dataframe tbody tr th:only-of-type {\n",
       "        vertical-align: middle;\n",
       "    }\n",
       "\n",
       "    .dataframe tbody tr th {\n",
       "        vertical-align: top;\n",
       "    }\n",
       "\n",
       "    .dataframe thead th {\n",
       "        text-align: right;\n",
       "    }\n",
       "</style>\n",
       "<table border=\"1\" class=\"dataframe\">\n",
       "  <thead>\n",
       "    <tr style=\"text-align: right;\">\n",
       "      <th></th>\n",
       "      <th>Latitude</th>\n",
       "      <th>Longitude</th>\n",
       "    </tr>\n",
       "  </thead>\n",
       "  <tbody>\n",
       "    <tr>\n",
       "      <th>93</th>\n",
       "      <td>13.2450</td>\n",
       "      <td>-44.9220</td>\n",
       "    </tr>\n",
       "    <tr>\n",
       "      <th>94</th>\n",
       "      <td>-18.4250</td>\n",
       "      <td>-132.9230</td>\n",
       "    </tr>\n",
       "    <tr>\n",
       "      <th>95</th>\n",
       "      <td>-17.8570</td>\n",
       "      <td>-178.6460</td>\n",
       "    </tr>\n",
       "    <tr>\n",
       "      <th>96</th>\n",
       "      <td>15.6740</td>\n",
       "      <td>-46.7120</td>\n",
       "    </tr>\n",
       "    <tr>\n",
       "      <th>97</th>\n",
       "      <td>-11.3850</td>\n",
       "      <td>166.3320</td>\n",
       "    </tr>\n",
       "    <tr>\n",
       "      <th>...</th>\n",
       "      <td>...</td>\n",
       "      <td>...</td>\n",
       "    </tr>\n",
       "    <tr>\n",
       "      <th>18512</th>\n",
       "      <td>-10.6273</td>\n",
       "      <td>164.9682</td>\n",
       "    </tr>\n",
       "    <tr>\n",
       "      <th>18513</th>\n",
       "      <td>-10.8889</td>\n",
       "      <td>165.9801</td>\n",
       "    </tr>\n",
       "    <tr>\n",
       "      <th>18514</th>\n",
       "      <td>-29.1551</td>\n",
       "      <td>60.9158</td>\n",
       "    </tr>\n",
       "    <tr>\n",
       "      <th>18515</th>\n",
       "      <td>13.3118</td>\n",
       "      <td>-44.8777</td>\n",
       "    </tr>\n",
       "    <tr>\n",
       "      <th>18516</th>\n",
       "      <td>-41.8291</td>\n",
       "      <td>88.4676</td>\n",
       "    </tr>\n",
       "  </tbody>\n",
       "</table>\n",
       "<p>987 rows × 2 columns</p>\n",
       "</div>"
      ],
      "text/plain": [
       "       Latitude  Longitude\n",
       "93      13.2450   -44.9220\n",
       "94     -18.4250  -132.9230\n",
       "95     -17.8570  -178.6460\n",
       "96      15.6740   -46.7120\n",
       "97     -11.3850   166.3320\n",
       "...         ...        ...\n",
       "18512  -10.6273   164.9682\n",
       "18513  -10.8889   165.9801\n",
       "18514  -29.1551    60.9158\n",
       "18515   13.3118   -44.8777\n",
       "18516  -41.8291    88.4676\n",
       "\n",
       "[987 rows x 2 columns]"
      ]
     },
     "metadata": {},
     "output_type": "display_data"
    }
   ],
   "source": [
    "testInstance = x.loc[y == 'France']\n",
    "display(testInstance)"
   ]
  },
  {
   "cell_type": "code",
   "execution_count": 94,
   "id": "52eb2e9e",
   "metadata": {},
   "outputs": [
    {
     "name": "stdout",
     "output_type": "stream",
     "text": [
      "93       France\n",
      "10241    France\n",
      "18515    France\n",
      "10971    France\n",
      "15203    France\n",
      "Name: Country Name, dtype: object\n"
     ]
    }
   ],
   "source": [
    "neighbors = getNeighbors(x.values, testInstance.values[0], 5)\n",
    "print(y[neighbors])"
   ]
  },
  {
   "cell_type": "code",
   "execution_count": 90,
   "id": "9b992a1b",
   "metadata": {},
   "outputs": [],
   "source": [
    "from sklearn.model_selection import train_test_split\n",
    "x_train, x_test, y_train, y_test = train_test_split(\n",
    "             x, y, test_size = 0.2, random_state=42)"
   ]
  },
  {
   "cell_type": "code",
   "execution_count": 102,
   "id": "ffd7a676",
   "metadata": {},
   "outputs": [
    {
     "name": "stdout",
     "output_type": "stream",
     "text": [
      "0.9169559412550067\n"
     ]
    }
   ],
   "source": [
    "from sklearn.neighbors import KNeighborsClassifier\n",
    "knn = KNeighborsClassifier(n_neighbors=7)\n",
    "knn.fit(x_train, y_train)\n",
    "print(knn.score(x_test, y_test))"
   ]
  },
  {
   "cell_type": "code",
   "execution_count": 103,
   "id": "bfb8eb86",
   "metadata": {},
   "outputs": [
    {
     "data": {
      "image/png": "[encoded data removed]",
      "text/plain": [
       "<Figure size 432x288 with 1 Axes>"
      ]
     },
     "metadata": {
      "needs_background": "light"
     },
     "output_type": "display_data"
    }
   ],
   "source": [
    "neighbors = np.arange(1, 11)\n",
    "train_accuracy = np.empty(len(neighbors))\n",
    "test_accuracy = np.empty(len(neighbors))\n",
    "\n",
    "for i, k in enumerate(neighbors):\n",
    "    knn = KNeighborsClassifier(n_neighbors=k)\n",
    "    knn.fit(x_train, y_train)\n",
    "    \n",
    "    train_accuracy[i] = knn.score(x_train, y_train)\n",
    "    test_accuracy[i] = knn.score(x_test, y_test)\n",
    "    \n",
    "plt.plot(neighbors, test_accuracy, label = 'Testing Accuracy')\n",
    "plt.plot(neighbors, train_accuracy, label = 'Training Accuracy')\n",
    " \n",
    "plt.legend()\n",
    "plt.xlabel('K Value')\n",
    "plt.ylabel('Accuracy')\n",
    "plt.show()\n"
   ]
  },
  {
   "cell_type": "code",
   "execution_count": null,
   "id": "1a8c6b8d",
   "metadata": {},
   "outputs": [],
   "source": []
  },
  {
   "cell_type": "code",
   "execution_count": null,
   "id": "f8976d30",
   "metadata": {},
   "outputs": [],
   "source": []
  }
 ],
 "metadata": {
  "kernelspec": {
   "display_name": "Python 3 (ipykernel)",
   "language": "python",
   "name": "python3"
  },
  "language_info": {
   "codemirror_mode": {
    "name": "ipython",
    "version": 3
   },
   "file_extension": ".py",
   "mimetype": "text/x-python",
   "name": "python",
   "nbconvert_exporter": "python",
   "pygments_lexer": "ipython3",
   "version": "3.9.7"
  }
 },
 "nbformat": 4,
 "nbformat_minor": 5
}
