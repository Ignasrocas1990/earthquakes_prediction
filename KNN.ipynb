{
 "cells": [
  {
   "cell_type": "code",
   "execution_count": 2,
   "id": "bb3aa14d",
   "metadata": {},
   "outputs": [],
   "source": [
    "import os\n",
    "import pandas as pd\n",
    "import matplotlib.pyplot as plt\n",
    "import numpy as np\n",
    "from IPython.display import display"
   ]
  },
  {
   "cell_type": "code",
   "execution_count": 3,
   "id": "eaf2897d",
   "metadata": {},
   "outputs": [],
   "source": [
    "#Clean data\n",
    "e_data = pd.read_csv(\"https://www.dropbox.com/s/ey2y94hyfclgl98/clean_data.csv?dl=1\")"
   ]
  },
  {
   "cell_type": "code",
   "execution_count": 4,
   "id": "f6731bce",
   "metadata": {},
   "outputs": [
    {
     "name": "stdout",
     "output_type": "stream",
     "text": [
      "       Unnamed: 0  Latitude  Longitude   Depth  Magnitude  Month   Day  \\\n",
      "0               0   19.2460   145.6160  131.60        6.0      1   2.0   \n",
      "1              39   53.0080  -162.0080   17.80        6.4      2   6.0   \n",
      "2              44   53.1910  -161.8590   22.50        6.3      2   6.0   \n",
      "3              57   21.5270   143.0810  340.00        5.6      2  17.0   \n",
      "4              86   53.2920  -162.3310   20.00        5.7      3  13.0   \n",
      "...           ...       ...        ...     ...        ...    ...   ...   \n",
      "18720       23325    6.1142   -82.5906   10.00        5.6     11  12.0   \n",
      "18721       23359  -35.2021    54.0219   10.00        5.5     12   1.0   \n",
      "18722       23365   11.0316   -60.9005   31.75        5.9     12   6.0   \n",
      "18723       23397  -10.1785   160.9149   10.00        6.0     12  20.0   \n",
      "18724       23398  -10.1549   160.7816   10.38        5.5     12  20.0   \n",
      "\n",
      "         Year    Country Name  Density  Population  \n",
      "0      1965.0   United States       21   194303000  \n",
      "1      1965.0   United States       21   194303000  \n",
      "2      1965.0   United States       21   194303000  \n",
      "3      1965.0   United States       21   194303000  \n",
      "4      1965.0   United States       21   194303000  \n",
      "...       ...             ...      ...         ...  \n",
      "18720  2016.0          Panama       54     4037078  \n",
      "18721  2016.0      Madagascar       42    24894380  \n",
      "18722  2016.0  United Kingdom      271    65595565  \n",
      "18723  2016.0        Thailand      135    68971331  \n",
      "18724  2016.0        Thailand      135    68971331  \n",
      "\n",
      "[18725 rows x 11 columns]\n"
     ]
    }
   ],
   "source": [
    "print (e_data)"
   ]
  },
  {
   "cell_type": "code",
   "execution_count": 15,
   "id": "069825a3",
   "metadata": {},
   "outputs": [
    {
     "name": "stdout",
     "output_type": "stream",
     "text": [
      "   Latitude  Longitude\n",
      "0    19.246    145.616\n",
      "1    53.008   -162.008\n",
      "2    53.191   -161.859\n",
      "3    21.527    143.081\n",
      "4    53.292   -162.331\n",
      "0    United States\n",
      "1    United States\n",
      "2    United States\n",
      "3    United States\n",
      "4    United States\n",
      "Name: Country Name, dtype: object\n"
     ]
    }
   ],
   "source": [
    "cols = ['Latitude', 'Longitude']\n",
    "#rows = ['Country Name']\n",
    "\n",
    "x = e_data[cols]\n",
    "#y = e_data[rows]\n",
    "y = e_data['Country Name']\n",
    "print (x.head())\n",
    "print (y.head())"
   ]
  },
  {
   "cell_type": "code",
   "execution_count": 6,
   "id": "6473a518",
   "metadata": {},
   "outputs": [],
   "source": [
    "import math\n",
    "def euclideanDistance(instance1, instance2):\n",
    "    distance = 0\n",
    "    for x in range(len(instance1)):\n",
    "        distance += pow((instance1[x] - instance2[x]), 2)\n",
    "    return math.sqrt(distance)"
   ]
  },
  {
   "cell_type": "code",
   "execution_count": null,
   "id": "dd6f49cf",
   "metadata": {},
   "outputs": [],
   "source": []
  },
  {
   "cell_type": "code",
   "execution_count": 7,
   "id": "ea89f411",
   "metadata": {},
   "outputs": [],
   "source": [
    "import operator\n",
    "def getNeighbors(trainingSet, instance, k):\n",
    "    \"\"\"Return the first k locations of the nearest neighbours to an instance\"\"\"\n",
    "    distances = []\n",
    "    for x in range(len(trainingSet)):\n",
    "        dist = euclideanDistance(instance, trainingSet[x])\n",
    "        distances.append(dist)\n",
    "    locs = np.argsort(distances)\n",
    "    return locs[:k]"
   ]
  },
  {
   "cell_type": "code",
   "execution_count": 29,
   "id": "9997041c",
   "metadata": {},
   "outputs": [
    {
     "data": {
      "text/html": [
       "<div>\n",
       "<style scoped>\n",
       "    .dataframe tbody tr th:only-of-type {\n",
       "        vertical-align: middle;\n",
       "    }\n",
       "\n",
       "    .dataframe tbody tr th {\n",
       "        vertical-align: top;\n",
       "    }\n",
       "\n",
       "    .dataframe thead th {\n",
       "        text-align: right;\n",
       "    }\n",
       "</style>\n",
       "<table border=\"1\" class=\"dataframe\">\n",
       "  <thead>\n",
       "    <tr style=\"text-align: right;\">\n",
       "      <th></th>\n",
       "      <th>Latitude</th>\n",
       "      <th>Longitude</th>\n",
       "    </tr>\n",
       "  </thead>\n",
       "  <tbody>\n",
       "    <tr>\n",
       "      <th>1050</th>\n",
       "      <td>27.793</td>\n",
       "      <td>60.043</td>\n",
       "    </tr>\n",
       "    <tr>\n",
       "      <th>6047</th>\n",
       "      <td>11.758</td>\n",
       "      <td>-61.389</td>\n",
       "    </tr>\n",
       "  </tbody>\n",
       "</table>\n",
       "</div>"
      ],
      "text/plain": [
       "      Latitude  Longitude\n",
       "1050    27.793     60.043\n",
       "6047    11.758    -61.389"
      ]
     },
     "metadata": {},
     "output_type": "display_data"
    }
   ],
   "source": [
    "testInstance = x.loc[y == 'Ireland']\n",
    "display(testInstance)"
   ]
  },
  {
   "cell_type": "code",
   "execution_count": 30,
   "id": "52eb2e9e",
   "metadata": {},
   "outputs": [
    {
     "name": "stdout",
     "output_type": "stream",
     "text": [
      "1050         Ireland\n",
      "16191          India\n",
      "16726          India\n",
      "13047          India\n",
      "13045          India\n",
      "13061    Afghanistan\n",
      "11491    Afghanistan\n",
      "11492    Afghanistan\n",
      "10461    Afghanistan\n",
      "1916        Pakistan\n",
      "Name: Country Name, dtype: object\n"
     ]
    }
   ],
   "source": [
    "neighbors = getNeighbors(x.values, testInstance.values[0], 10)\n",
    "print(y[neighbors])"
   ]
  },
  {
   "cell_type": "code",
   "execution_count": 18,
   "id": "9b992a1b",
   "metadata": {},
   "outputs": [],
   "source": [
    "from sklearn.model_selection import train_test_split\n",
    "x_train, x_test, y_train, y_test = train_test_split(\n",
    "             x, y, test_size = 0.2, random_state=42)"
   ]
  },
  {
   "cell_type": "code",
   "execution_count": 32,
   "id": "ffd7a676",
   "metadata": {},
   "outputs": [
    {
     "name": "stdout",
     "output_type": "stream",
     "text": [
      "0.9169559412550067\n"
     ]
    }
   ],
   "source": [
    "from sklearn.neighbors import KNeighborsClassifier\n",
    "knn = KNeighborsClassifier(n_neighbors=7)\n",
    "knn.fit(x_train, y_train)\n",
    "print(knn.score(x_test, y_test))"
   ]
  },
  {
   "cell_type": "code",
   "execution_count": 31,
   "id": "bfb8eb86",
   "metadata": {},
   "outputs": [
    {
     "data": {
      "image/png": "[encoded data removed]",
      "text/plain": [
       "<Figure size 432x288 with 1 Axes>"
      ]
     },
     "metadata": {
      "needs_background": "light"
     },
     "output_type": "display_data"
    }
   ],
   "source": [
    "neighbors = np.arange(1, 9)\n",
    "train_accuracy = np.empty(len(neighbors))\n",
    "test_accuracy = np.empty(len(neighbors))\n",
    "\n",
    "for i, k in enumerate(neighbors):\n",
    "    knn = KNeighborsClassifier(n_neighbors=k)\n",
    "    knn.fit(x_train, y_train)\n",
    "    \n",
    "    train_accuracy[i] = knn.score(x_train, y_train)\n",
    "    test_accuracy[i] = knn.score(x_test, y_test)\n",
    "    \n",
    "plt.plot(neighbors, test_accuracy, label = 'Testing dataset Accuracy')\n",
    "plt.plot(neighbors, train_accuracy, label = 'Training dataset Accuracy')\n",
    " \n",
    "plt.legend()\n",
    "plt.xlabel('n_neighbors')\n",
    "plt.ylabel('Accuracy')\n",
    "plt.show()\n"
   ]
  },
  {
   "cell_type": "code",
   "execution_count": null,
   "id": "1a8c6b8d",
   "metadata": {},
   "outputs": [],
   "source": []
  },
  {
   "cell_type": "code",
   "execution_count": null,
   "id": "f8976d30",
   "metadata": {},
   "outputs": [],
   "source": []
  }
 ],
 "metadata": {
  "kernelspec": {
   "display_name": "Python 3",
   "language": "python",
   "name": "python3"
  },
  "language_info": {
   "codemirror_mode": {
    "name": "ipython",
    "version": 3
   },
   "file_extension": ".py",
   "mimetype": "text/x-python",
   "name": "python",
   "nbconvert_exporter": "python",
   "pygments_lexer": "ipython3",
   "version": "3.8.8"
  }
 },
 "nbformat": 4,
 "nbformat_minor": 5
}
