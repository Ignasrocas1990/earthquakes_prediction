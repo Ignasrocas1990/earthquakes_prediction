{
 "cells": [
  {
   "cell_type": "code",
   "execution_count": 18,
   "id": "bb3aa14d",
   "metadata": {},
   "outputs": [],
   "source": [
    "import pandas as pd\n",
    "import csv\n",
    "import operator\n",
    "from math import sqrt\n",
    "from random import random, seed"
   ]
  },
  {
   "cell_type": "code",
   "execution_count": 2,
   "id": "eaf2897d",
   "metadata": {},
   "outputs": [],
   "source": [
    "#Clean data\n",
    "e_data = pd.read_csv(\"https://www.dropbox.com/s/ey2y94hyfclgl98/clean_data.csv?dl=1\")"
   ]
  },
  {
   "cell_type": "code",
   "execution_count": 3,
   "id": "f6731bce",
   "metadata": {},
   "outputs": [
    {
     "name": "stdout",
     "output_type": "stream",
     "text": [
      "       Unnamed: 0  Latitude  Longitude   Depth  Magnitude  Month   Day  \\\n",
      "0               0   19.2460   145.6160  131.60        6.0      1   2.0   \n",
      "1              39   53.0080  -162.0080   17.80        6.4      2   6.0   \n",
      "2              44   53.1910  -161.8590   22.50        6.3      2   6.0   \n",
      "3              57   21.5270   143.0810  340.00        5.6      2  17.0   \n",
      "4              86   53.2920  -162.3310   20.00        5.7      3  13.0   \n",
      "...           ...       ...        ...     ...        ...    ...   ...   \n",
      "18720       23325    6.1142   -82.5906   10.00        5.6     11  12.0   \n",
      "18721       23359  -35.2021    54.0219   10.00        5.5     12   1.0   \n",
      "18722       23365   11.0316   -60.9005   31.75        5.9     12   6.0   \n",
      "18723       23397  -10.1785   160.9149   10.00        6.0     12  20.0   \n",
      "18724       23398  -10.1549   160.7816   10.38        5.5     12  20.0   \n",
      "\n",
      "         Year    Country Name  Density  Population  \n",
      "0      1965.0   United States       21   194303000  \n",
      "1      1965.0   United States       21   194303000  \n",
      "2      1965.0   United States       21   194303000  \n",
      "3      1965.0   United States       21   194303000  \n",
      "4      1965.0   United States       21   194303000  \n",
      "...       ...             ...      ...         ...  \n",
      "18720  2016.0          Panama       54     4037078  \n",
      "18721  2016.0      Madagascar       42    24894380  \n",
      "18722  2016.0  United Kingdom      271    65595565  \n",
      "18723  2016.0        Thailand      135    68971331  \n",
      "18724  2016.0        Thailand      135    68971331  \n",
      "\n",
      "[18725 rows x 11 columns]\n"
     ]
    }
   ],
   "source": [
    "print (e_data)"
   ]
  },
  {
   "cell_type": "code",
   "execution_count": 14,
   "id": "069825a3",
   "metadata": {},
   "outputs": [],
   "source": [
    "def loadDataset(filename, split, trainingSet=[], testSet=[]):\n",
    "    \"\"\"\n",
    "    Parses the values from our data and puts some into training and testing data.\n",
    "    \"\"\"\n",
    "    \n",
    "    with open('out_e_data.csv') as csv:\n",
    "        colnames = ['1', '2', '3', '4', '5', '6', '7', '8', '9', '10', '11', \n",
    "            '12', '13', '14', '15', '16', '17', '18', '19', '20', '21', '22']\n",
    "        data = pandas.read_csv(filename, names=colnames)\n",
    "        dataset = list(zip(data['2'], data['3'], data['5']))\n",
    "        for x in range(len(dataset)):\n",
    "            dataset[x] = list(dataset[x])\n",
    "        for x in range(len(dataset)):\n",
    "            for y in range(3):\n",
    "                dataset[x][y] = float(dataset[x][y])\n",
    "            if random() < split:\n",
    "                trainingSet.append(dataset[x])\n",
    "            else:\n",
    "                testSet.append(dataset[x])"
   ]
  },
  {
   "cell_type": "code",
   "execution_count": 5,
   "id": "6473a518",
   "metadata": {},
   "outputs": [],
   "source": [
    "def euclideanDistance(instance1, instance2):\n",
    "    \"\"\"\n",
    "    Finds the distance between two points.\n",
    "    \"\"\"\n",
    "    \n",
    "    distance = 0\n",
    "    for x in range(3):\n",
    "        distance += (instance1[x] - instance2[x]) ** 2\n",
    "    return sqrt(distance)"
   ]
  },
  {
   "cell_type": "code",
   "execution_count": 6,
   "id": "dd6f49cf",
   "metadata": {},
   "outputs": [],
   "source": [
    "def getNeighbors(trainingSet, testInstance, k):\n",
    "    \"\"\"\n",
    "    Obtains the KNNs for the data.\n",
    "    \"\"\"\n",
    "    \n",
    "    distances = []\n",
    "    for x in range(len(trainingSet)):\n",
    "        dist = euclideanDistance(testInstance, trainingSet[x])\n",
    "        distances.append((trainingSet[x], dist))\n",
    "    distances.sort(key=operator.itemgetter(1))\n",
    "    neighbors = []\n",
    "    for x in range(k):\n",
    "        neighbors.append(distances[x][0])\n",
    "    return neighbors"
   ]
  },
  {
   "cell_type": "code",
   "execution_count": 7,
   "id": "ea89f411",
   "metadata": {},
   "outputs": [],
   "source": [
    "def getResponse(neighbors, k):\n",
    "    \"\"\"\n",
    "    Averages the magnitudes of the KNNs.\n",
    "    \"\"\"\n",
    "    \n",
    "    total = 0\n",
    "    for x in range(len(neighbors)):\n",
    "        response = neighbors[x][-1]\n",
    "        total += response\n",
    "    return round(total / k, 1)"
   ]
  },
  {
   "cell_type": "code",
   "execution_count": 8,
   "id": "9997041c",
   "metadata": {},
   "outputs": [],
   "source": [
    "def getError(testSet, predictions):\n",
    "    \"\"\"\n",
    "    Obtains the average error for all predicted data, as a percentage.\n",
    "    \"\"\"\n",
    "    \n",
    "    for x in range(len(testSet)):\n",
    "        error = abs((predictions[x] - testSet[x][-1]) / testSet[x][-1])\n",
    "    return (error / float(len(testSet))) * 100.0"
   ]
  },
  {
   "cell_type": "code",
   "execution_count": 16,
   "id": "52eb2e9e",
   "metadata": {},
   "outputs": [],
   "source": [
    "def main():\n",
    "    # Initialize\n",
    "    seed(1)\n",
    "    trainingSet = []\n",
    "    testSet = []\n",
    "    split = 0.8\n",
    "    loadDataset(\"out_e_data.csv\", split, trainingSet, testSet)\n",
    "    print ('Train set:', repr(len(trainingSet)))\n",
    "    print ('Test set:', repr(len(testSet)))\n",
    "    \n",
    "    # Predict\n",
    "    predictions = []\n",
    "    k = 3\n",
    "    for x in range(len(testSet)):\n",
    "        neighbors = getNeighbors(trainingSet, testSet[x], k)\n",
    "        result = getResponse(neighbors, k)\n",
    "        predictions.append(result)\n",
    "        print('> prediction = {}, actual = {}'.format(repr(result), repr(testSet[x][-1])))\n",
    "    accuracy = getError(testSet, predictions)\n",
    "    print('Average Percent Error: {}%'.format(repr(accuracy)))"
   ]
  },
  {
   "cell_type": "code",
   "execution_count": 19,
   "id": "9b992a1b",
   "metadata": {},
   "outputs": [
    {
     "ename": "NameError",
     "evalue": "name 'pandas' is not defined",
     "output_type": "error",
     "traceback": [
      "\u001b[1;31m---------------------------------------------------------------------------\u001b[0m",
      "\u001b[1;31mNameError\u001b[0m                                 Traceback (most recent call last)",
      "\u001b[1;32m<ipython-input-19-263240bbee7e>\u001b[0m in \u001b[0;36m<module>\u001b[1;34m\u001b[0m\n\u001b[1;32m----> 1\u001b[1;33m \u001b[0mmain\u001b[0m\u001b[1;33m(\u001b[0m\u001b[1;33m)\u001b[0m\u001b[1;33m\u001b[0m\u001b[1;33m\u001b[0m\u001b[0m\n\u001b[0m",
      "\u001b[1;32m<ipython-input-16-58867c361b45>\u001b[0m in \u001b[0;36mmain\u001b[1;34m()\u001b[0m\n\u001b[0;32m      5\u001b[0m     \u001b[0mtestSet\u001b[0m \u001b[1;33m=\u001b[0m \u001b[1;33m[\u001b[0m\u001b[1;33m]\u001b[0m\u001b[1;33m\u001b[0m\u001b[1;33m\u001b[0m\u001b[0m\n\u001b[0;32m      6\u001b[0m     \u001b[0msplit\u001b[0m \u001b[1;33m=\u001b[0m \u001b[1;36m0.8\u001b[0m\u001b[1;33m\u001b[0m\u001b[1;33m\u001b[0m\u001b[0m\n\u001b[1;32m----> 7\u001b[1;33m     \u001b[0mloadDataset\u001b[0m\u001b[1;33m(\u001b[0m\u001b[1;34m\"out_e_data.csv\"\u001b[0m\u001b[1;33m,\u001b[0m \u001b[0msplit\u001b[0m\u001b[1;33m,\u001b[0m \u001b[0mtrainingSet\u001b[0m\u001b[1;33m,\u001b[0m \u001b[0mtestSet\u001b[0m\u001b[1;33m)\u001b[0m\u001b[1;33m\u001b[0m\u001b[1;33m\u001b[0m\u001b[0m\n\u001b[0m\u001b[0;32m      8\u001b[0m     \u001b[0mprint\u001b[0m \u001b[1;33m(\u001b[0m\u001b[1;34m'Train set:'\u001b[0m\u001b[1;33m,\u001b[0m \u001b[0mrepr\u001b[0m\u001b[1;33m(\u001b[0m\u001b[0mlen\u001b[0m\u001b[1;33m(\u001b[0m\u001b[0mtrainingSet\u001b[0m\u001b[1;33m)\u001b[0m\u001b[1;33m)\u001b[0m\u001b[1;33m)\u001b[0m\u001b[1;33m\u001b[0m\u001b[1;33m\u001b[0m\u001b[0m\n\u001b[0;32m      9\u001b[0m     \u001b[0mprint\u001b[0m \u001b[1;33m(\u001b[0m\u001b[1;34m'Test set:'\u001b[0m\u001b[1;33m,\u001b[0m \u001b[0mrepr\u001b[0m\u001b[1;33m(\u001b[0m\u001b[0mlen\u001b[0m\u001b[1;33m(\u001b[0m\u001b[0mtestSet\u001b[0m\u001b[1;33m)\u001b[0m\u001b[1;33m)\u001b[0m\u001b[1;33m)\u001b[0m\u001b[1;33m\u001b[0m\u001b[1;33m\u001b[0m\u001b[0m\n",
      "\u001b[1;32m<ipython-input-14-5061b39ba3de>\u001b[0m in \u001b[0;36mloadDataset\u001b[1;34m(filename, split, trainingSet, testSet)\u001b[0m\n\u001b[0;32m      7\u001b[0m         colnames = ['1', '2', '3', '4', '5', '6', '7', '8', '9', '10', '11', \n\u001b[0;32m      8\u001b[0m             '12', '13', '14', '15', '16', '17', '18', '19', '20', '21', '22']\n\u001b[1;32m----> 9\u001b[1;33m         \u001b[0mdata\u001b[0m \u001b[1;33m=\u001b[0m \u001b[0mpandas\u001b[0m\u001b[1;33m.\u001b[0m\u001b[0mread_csv\u001b[0m\u001b[1;33m(\u001b[0m\u001b[0mfilename\u001b[0m\u001b[1;33m,\u001b[0m \u001b[0mnames\u001b[0m\u001b[1;33m=\u001b[0m\u001b[0mcolnames\u001b[0m\u001b[1;33m)\u001b[0m\u001b[1;33m\u001b[0m\u001b[1;33m\u001b[0m\u001b[0m\n\u001b[0m\u001b[0;32m     10\u001b[0m         \u001b[0mdataset\u001b[0m \u001b[1;33m=\u001b[0m \u001b[0mlist\u001b[0m\u001b[1;33m(\u001b[0m\u001b[0mzip\u001b[0m\u001b[1;33m(\u001b[0m\u001b[0mdata\u001b[0m\u001b[1;33m[\u001b[0m\u001b[1;34m'2'\u001b[0m\u001b[1;33m]\u001b[0m\u001b[1;33m,\u001b[0m \u001b[0mdata\u001b[0m\u001b[1;33m[\u001b[0m\u001b[1;34m'3'\u001b[0m\u001b[1;33m]\u001b[0m\u001b[1;33m,\u001b[0m \u001b[0mdata\u001b[0m\u001b[1;33m[\u001b[0m\u001b[1;34m'5'\u001b[0m\u001b[1;33m]\u001b[0m\u001b[1;33m)\u001b[0m\u001b[1;33m)\u001b[0m\u001b[1;33m\u001b[0m\u001b[1;33m\u001b[0m\u001b[0m\n\u001b[0;32m     11\u001b[0m         \u001b[1;32mfor\u001b[0m \u001b[0mx\u001b[0m \u001b[1;32min\u001b[0m \u001b[0mrange\u001b[0m\u001b[1;33m(\u001b[0m\u001b[0mlen\u001b[0m\u001b[1;33m(\u001b[0m\u001b[0mdataset\u001b[0m\u001b[1;33m)\u001b[0m\u001b[1;33m)\u001b[0m\u001b[1;33m:\u001b[0m\u001b[1;33m\u001b[0m\u001b[1;33m\u001b[0m\u001b[0m\n",
      "\u001b[1;31mNameError\u001b[0m: name 'pandas' is not defined"
     ]
    }
   ],
   "source": [
    "main()"
   ]
  },
  {
   "cell_type": "code",
   "execution_count": null,
   "id": "ffd7a676",
   "metadata": {},
   "outputs": [],
   "source": []
  }
 ],
 "metadata": {
  "kernelspec": {
   "display_name": "Python 3",
   "language": "python",
   "name": "python3"
  },
  "language_info": {
   "codemirror_mode": {
    "name": "ipython",
    "version": 3
   },
   "file_extension": ".py",
   "mimetype": "text/x-python",
   "name": "python",
   "nbconvert_exporter": "python",
   "pygments_lexer": "ipython3",
   "version": "3.8.8"
  }
 },
 "nbformat": 4,
 "nbformat_minor": 5
}
