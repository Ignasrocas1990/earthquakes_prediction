{
 "cells": [
  {
   "cell_type": "code",
   "execution_count": 2,
   "metadata": {},
   "outputs": [],
   "source": [
    "import pandas as pd\n",
    "import reverse_geocoder as rg\n",
    "from geopy.geocoders import Nominatim \n",
    "from googletrans import Translator, constants\n",
    "translator = Translator()\n",
    "geolocator = Nominatim(user_agent=\"geoapiExercises\")"
   ]
  },
  {
   "cell_type": "markdown",
   "metadata": {},
   "source": [
    "# Data cleaning & merging"
   ]
  },
  {
   "cell_type": "code",
   "execution_count": 12,
   "metadata": {},
   "outputs": [],
   "source": [
    "def input_org_data():\n",
    "    e_data = pd.read_csv(\"https://www.dropbox.com/s/u2xupuhf07y85zh/earthQuake.csv?dl=1\")\n",
    "    density_data = pd.read_csv(\"https://www.dropbox.com/s/p6ejr4mzx8pjq9m/population_density_long.csv?dl=1\")\n",
    "    population_data=pd.read_csv(\"https://www.dropbox.com/s/bp5hb61zrui2qo6/population_total_long.csv?dl=1\")\n",
    "    e_data_with_country = pd.read_csv('out_e_data.csv', delimiter=',', encoding=\"utf-8\")\n",
    "    density_data = pd.read_csv('population_density_long.csv', delimiter=',', encoding=\"utf-8\")\n",
    "    population_data=pd.read_csv('population_total_long.csv', delimiter=',', encoding=\"utf-8\")"
   ]
  },
  {
   "cell_type": "code",
   "execution_count": 14,
   "metadata": {},
   "outputs": [
    {
     "name": "stdout",
     "output_type": "stream",
     "text": [
      "             Date      Time  Latitude  Longitude        Type   Depth  \\\n",
      "0      01/02/1965  13:44:18   19.2460   145.6160  Earthquake  131.60   \n",
      "1      01/04/1965  11:29:49    1.8630   127.3520  Earthquake   80.00   \n",
      "2      01/05/1965  18:05:58  -20.5790  -173.9720  Earthquake   20.00   \n",
      "3      01/08/1965  18:49:43  -59.0760   -23.5570  Earthquake   15.00   \n",
      "4      01/09/1965  13:32:50   11.9380   126.4270  Earthquake   15.00   \n",
      "...           ...       ...       ...        ...         ...     ...   \n",
      "23407  12/28/2016  08:22:12   38.3917  -118.8941  Earthquake   12.30   \n",
      "23408  12/28/2016  09:13:47   38.3777  -118.8957  Earthquake    8.80   \n",
      "23409  12/28/2016  12:38:51   36.9179   140.4262  Earthquake   10.00   \n",
      "23410  12/29/2016  22:30:19   -9.0283   118.6639  Earthquake   79.00   \n",
      "23411  12/30/2016  20:08:28   37.3973   141.4103  Earthquake   11.94   \n",
      "\n",
      "       Magnitude Magnitude Type            ID  Source Location Source  \\\n",
      "0            6.0             MW  ISCGEM860706  ISCGEM          ISCGEM   \n",
      "1            5.8             MW  ISCGEM860737  ISCGEM          ISCGEM   \n",
      "2            6.2             MW  ISCGEM860762  ISCGEM          ISCGEM   \n",
      "3            5.8             MW  ISCGEM860856  ISCGEM          ISCGEM   \n",
      "4            5.8             MW  ISCGEM860890  ISCGEM          ISCGEM   \n",
      "...          ...            ...           ...     ...             ...   \n",
      "23407        5.6             ML    NN00570710      NN              NN   \n",
      "23408        5.5             ML    NN00570744      NN              NN   \n",
      "23409        5.9            MWW    US10007NAF      US              US   \n",
      "23410        6.3            MWW    US10007NL0      US              US   \n",
      "23411        5.5             MB    US10007NTD      US              US   \n",
      "\n",
      "      Magnitude Source     Status  \n",
      "0               ISCGEM  Automatic  \n",
      "1               ISCGEM  Automatic  \n",
      "2               ISCGEM  Automatic  \n",
      "3               ISCGEM  Automatic  \n",
      "4               ISCGEM  Automatic  \n",
      "...                ...        ...  \n",
      "23407               NN   Reviewed  \n",
      "23408               NN   Reviewed  \n",
      "23409               US   Reviewed  \n",
      "23410               US   Reviewed  \n",
      "23411               US   Reviewed  \n",
      "\n",
      "[23412 rows x 13 columns]\n"
     ]
    }
   ],
   "source": [
    "e_data = pd.read_csv(\"https://www.dropbox.com/s/u2xupuhf07y85zh/earthQuake.csv?dl=1\")\n",
    "print(e_data\n",
    "    )"
   ]
  },
  {
   "cell_type": "code",
   "execution_count": null,
   "metadata": {},
   "outputs": [],
   "source": []
  },
  {
   "cell_type": "code",
   "execution_count": 5,
   "metadata": {},
   "outputs": [
    {
     "name": "stdout",
     "output_type": "stream",
     "text": [
      "       Unnamed: 0  Latitude  Longitude   Depth  Magnitude  Month   Day  \\\n",
      "0               0   19.2460   145.6160  131.60        6.0      1   2.0   \n",
      "1              39   53.0080  -162.0080   17.80        6.4      2   6.0   \n",
      "2              44   53.1910  -161.8590   22.50        6.3      2   6.0   \n",
      "3              57   21.5270   143.0810  340.00        5.6      2  17.0   \n",
      "4              86   53.2920  -162.3310   20.00        5.7      3  13.0   \n",
      "...           ...       ...        ...     ...        ...    ...   ...   \n",
      "18720       23325    6.1142   -82.5906   10.00        5.6     11  12.0   \n",
      "18721       23359  -35.2021    54.0219   10.00        5.5     12   1.0   \n",
      "18722       23365   11.0316   -60.9005   31.75        5.9     12   6.0   \n",
      "18723       23397  -10.1785   160.9149   10.00        6.0     12  20.0   \n",
      "18724       23398  -10.1549   160.7816   10.38        5.5     12  20.0   \n",
      "\n",
      "         Year    Country Name  Density  Population  \n",
      "0      1965.0   United States       21   194303000  \n",
      "1      1965.0   United States       21   194303000  \n",
      "2      1965.0   United States       21   194303000  \n",
      "3      1965.0   United States       21   194303000  \n",
      "4      1965.0   United States       21   194303000  \n",
      "...       ...             ...      ...         ...  \n",
      "18720  2016.0          Panama       54     4037078  \n",
      "18721  2016.0      Madagascar       42    24894380  \n",
      "18722  2016.0  United Kingdom      271    65595565  \n",
      "18723  2016.0        Thailand      135    68971331  \n",
      "18724  2016.0        Thailand      135    68971331  \n",
      "\n",
      "[18725 rows x 11 columns]\n"
     ]
    }
   ],
   "source": [
    "full_combined_dataset = pd.read_csv('clean_data.csv', delimiter=',', encoding=\"utf-8\")\n",
    "print(full_combined_dataset)"
   ]
  },
  {
   "cell_type": "code",
   "execution_count": null,
   "metadata": {
    "scrolled": true
   },
   "outputs": [],
   "source": [
    "def cleanEarthquakeData(): \n",
    "    e_data[['Month','Day','Year']]=e_data['Date'].str.split('/',-1,expand=True)\n",
    "    e_data = e_data.drop(['Date','Time','ID','Source','Location Source','Magnitude Source','Status','Type','Magnitude Type'],axis=1)\n",
    "    print(e_data)"
   ]
  },
  {
   "cell_type": "code",
   "execution_count": null,
   "metadata": {},
   "outputs": [],
   "source": [
    "def clean_combine_pop_density():\n",
    "    population_data = population_data.drop(population_data.index[population_data['Year'].isin(['1960', '1961', '1962','1963','1964'])])\n",
    "    population_data.rename(columns={'Count': 'Population'}, inplace=True)\n",
    "\n",
    "    density_data = density_data.drop(density_data.index[density_data['Year'].isin(['1960', '1961', '1962','1963','1964'])])\n",
    "    density_data.rename(columns={'Count': 'Density'}, inplace=True)\n",
    "\n",
    "    joined = density_data.merge(population_data,\n",
    "              how='left',\n",
    "              on =['Country Name', 'Year'],\n",
    "             )\n",
    "    joined['Population'] = joined['Population'].fillna(0).astype(int)\n",
    "    print(joined)\n",
    "    pop_dense_data = joined\n"
   ]
  },
  {
   "cell_type": "code",
   "execution_count": null,
   "metadata": {},
   "outputs": [],
   "source": [
    "def find_country(long,lat):\n",
    "    tuple_input = (long,lat)\n",
    "    found = rg.search(tuple_input)\n",
    "    countryName = found[0]['name']\n",
    "#     countryName = translator.translate(countryName)\n",
    "    print('**', countryName)\n",
    "    \n",
    "    return countryName\n",
    "\n",
    "def city_to_country(city):\n",
    "    try:\n",
    "        loc = geolocator.geocode(city, language='en')\n",
    "        loc_list = loc.address.split(',')\n",
    "    except:\n",
    "        print(city + ': Not found')\n",
    "        return None\n",
    "    return loc_list[-1]"
   ]
  },
  {
   "cell_type": "code",
   "execution_count": null,
   "metadata": {},
   "outputs": [],
   "source": [
    "def country_col_edata():\n",
    "    count = 0\n",
    "    for i, r, in e_data.iterrows():\n",
    "        country = city_to_country(find_country(r['Latitude'], r['Longitude']))\n",
    "        e_data['Country Name'][count] = country\n",
    "        print(country)\n",
    "        count +=1\n",
    "    \n",
    "    e_data_with_country = e_data_with_country.dropna()\n",
    "    print(e_data_with_country)\n",
    "    return e_data_with_country"
   ]
  },
  {
   "cell_type": "code",
   "execution_count": null,
   "metadata": {},
   "outputs": [],
   "source": [
    "def strip_white_space():\n",
    "    fixed_e_data = e_data_with_country\n",
    "    fixed_e_data['Country Name'] = fixed_e_data['Country Name'].str.strip()\n",
    "    g = fixed_e_data['Country Name'][2]\n",
    "    print(type(g))\n",
    "    print(g)\n",
    "\n",
    "def merge_popDense_e_data():\n",
    "    joined = e_data_with_country.merge(fixed_pop_data,\n",
    "           how='inner',\n",
    "          on =['Country Name', 'Year'],\n",
    "         )\n",
    "    joined['Population'] = joined['Population'].fillna(0).astype(int)\n",
    "    joined['Density'] = joined['Density'].fillna(0).astype(int)\n",
    "    print(joined)\n"
   ]
  },
  {
   "cell_type": "code",
   "execution_count": 15,
   "metadata": {},
   "outputs": [],
   "source": [
    "#Clean data\n",
    "e_data = pd.read_csv(\"https://www.dropbox.com/s/ey2y94hyfclgl98/clean_data.csv?dl=1\")"
   ]
  },
  {
   "cell_type": "code",
   "execution_count": 16,
   "metadata": {},
   "outputs": [
    {
     "name": "stdout",
     "output_type": "stream",
     "text": [
      "       Unnamed: 0  Latitude  Longitude   Depth  Magnitude  Month   Day  \\\n",
      "0               0   19.2460   145.6160  131.60        6.0      1   2.0   \n",
      "1              39   53.0080  -162.0080   17.80        6.4      2   6.0   \n",
      "2              44   53.1910  -161.8590   22.50        6.3      2   6.0   \n",
      "3              57   21.5270   143.0810  340.00        5.6      2  17.0   \n",
      "4              86   53.2920  -162.3310   20.00        5.7      3  13.0   \n",
      "...           ...       ...        ...     ...        ...    ...   ...   \n",
      "18720       23325    6.1142   -82.5906   10.00        5.6     11  12.0   \n",
      "18721       23359  -35.2021    54.0219   10.00        5.5     12   1.0   \n",
      "18722       23365   11.0316   -60.9005   31.75        5.9     12   6.0   \n",
      "18723       23397  -10.1785   160.9149   10.00        6.0     12  20.0   \n",
      "18724       23398  -10.1549   160.7816   10.38        5.5     12  20.0   \n",
      "\n",
      "         Year    Country Name  Density  Population  \n",
      "0      1965.0   United States       21   194303000  \n",
      "1      1965.0   United States       21   194303000  \n",
      "2      1965.0   United States       21   194303000  \n",
      "3      1965.0   United States       21   194303000  \n",
      "4      1965.0   United States       21   194303000  \n",
      "...       ...             ...      ...         ...  \n",
      "18720  2016.0          Panama       54     4037078  \n",
      "18721  2016.0      Madagascar       42    24894380  \n",
      "18722  2016.0  United Kingdom      271    65595565  \n",
      "18723  2016.0        Thailand      135    68971331  \n",
      "18724  2016.0        Thailand      135    68971331  \n",
      "\n",
      "[18725 rows x 11 columns]\n"
     ]
    }
   ],
   "source": [
    "print(e_data)"
   ]
  },
  {
   "cell_type": "code",
   "execution_count": null,
   "metadata": {},
   "outputs": [],
   "source": []
  }
 ],
 "metadata": {
  "kernelspec": {
   "display_name": "Python 3",
   "language": "python",
   "name": "python3"
  },
  "language_info": {
   "codemirror_mode": {
    "name": "ipython",
    "version": 3
   },
   "file_extension": ".py",
   "mimetype": "text/x-python",
   "name": "python",
   "nbconvert_exporter": "python",
   "pygments_lexer": "ipython3",
   "version": "3.8.5"
  }
 },
 "nbformat": 4,
 "nbformat_minor": 4
}
